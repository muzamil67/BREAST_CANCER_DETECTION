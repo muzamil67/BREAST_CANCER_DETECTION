{
  "nbformat": 4,
  "nbformat_minor": 0,
  "metadata": {
    "colab": {
      "name": "Breast Cancer Detection.ipynb",
      "provenance": []
    },
    "kernelspec": {
      "name": "python3",
      "display_name": "Python 3"
    },
    "language_info": {
      "name": "python"
    }
  },
  "cells": [
    {
      "cell_type": "markdown",
      "metadata": {
        "id": "m6goapX-z30m"
      },
      "source": [
        "# In this project we will predict which type of Tumor patient have BENIGN OR MALIGNAT"
      ]
    },
    {
      "cell_type": "markdown",
      "metadata": {
        "id": "18OymFBM0INU"
      },
      "source": [
        "## load the dataset fram sklearn"
      ]
    },
    {
      "cell_type": "code",
      "metadata": {
        "id": "4_wK4YoO0AHx"
      },
      "source": [
        "import pandas as pd\n",
        "import numpy as np\n",
        "\n",
        "from sklearn.datasets import load_breast_cancer\n",
        "from sklearn.preprocessing import StandardScaler\n",
        "\n",
        "from keras.models import Sequential\n",
        "from keras.layers import Dense"
      ],
      "execution_count": 2,
      "outputs": []
    },
    {
      "cell_type": "code",
      "metadata": {
        "id": "3kBUogLp0NKK"
      },
      "source": [
        "data = load_breast_cancer()"
      ],
      "execution_count": 3,
      "outputs": []
    },
    {
      "cell_type": "code",
      "metadata": {
        "colab": {
          "base_uri": "https://localhost:8080/"
        },
        "id": "tkZ-aK8i0Siw",
        "outputId": "fa3eeeb8-2b56-45d3-e72f-58609abcea21"
      },
      "source": [
        "data.keys()"
      ],
      "execution_count": 4,
      "outputs": [
        {
          "output_type": "execute_result",
          "data": {
            "text/plain": [
              "dict_keys(['data', 'target', 'target_names', 'DESCR', 'feature_names', 'filename'])"
            ]
          },
          "metadata": {},
          "execution_count": 4
        }
      ]
    },
    {
      "cell_type": "code",
      "metadata": {
        "colab": {
          "base_uri": "https://localhost:8080/"
        },
        "id": "PIfJdAgn0UAH",
        "outputId": "ee4c6fb4-31e5-4ca9-e536-6e1d2889c38d"
      },
      "source": [
        "print(data['DESCR'])"
      ],
      "execution_count": 5,
      "outputs": [
        {
          "output_type": "stream",
          "name": "stdout",
          "text": [
            ".. _breast_cancer_dataset:\n",
            "\n",
            "Breast cancer wisconsin (diagnostic) dataset\n",
            "--------------------------------------------\n",
            "\n",
            "**Data Set Characteristics:**\n",
            "\n",
            "    :Number of Instances: 569\n",
            "\n",
            "    :Number of Attributes: 30 numeric, predictive attributes and the class\n",
            "\n",
            "    :Attribute Information:\n",
            "        - radius (mean of distances from center to points on the perimeter)\n",
            "        - texture (standard deviation of gray-scale values)\n",
            "        - perimeter\n",
            "        - area\n",
            "        - smoothness (local variation in radius lengths)\n",
            "        - compactness (perimeter^2 / area - 1.0)\n",
            "        - concavity (severity of concave portions of the contour)\n",
            "        - concave points (number of concave portions of the contour)\n",
            "        - symmetry \n",
            "        - fractal dimension (\"coastline approximation\" - 1)\n",
            "\n",
            "        The mean, standard error, and \"worst\" or largest (mean of the three\n",
            "        largest values) of these features were computed for each image,\n",
            "        resulting in 30 features.  For instance, field 3 is Mean Radius, field\n",
            "        13 is Radius SE, field 23 is Worst Radius.\n",
            "\n",
            "        - class:\n",
            "                - WDBC-Malignant\n",
            "                - WDBC-Benign\n",
            "\n",
            "    :Summary Statistics:\n",
            "\n",
            "    ===================================== ====== ======\n",
            "                                           Min    Max\n",
            "    ===================================== ====== ======\n",
            "    radius (mean):                        6.981  28.11\n",
            "    texture (mean):                       9.71   39.28\n",
            "    perimeter (mean):                     43.79  188.5\n",
            "    area (mean):                          143.5  2501.0\n",
            "    smoothness (mean):                    0.053  0.163\n",
            "    compactness (mean):                   0.019  0.345\n",
            "    concavity (mean):                     0.0    0.427\n",
            "    concave points (mean):                0.0    0.201\n",
            "    symmetry (mean):                      0.106  0.304\n",
            "    fractal dimension (mean):             0.05   0.097\n",
            "    radius (standard error):              0.112  2.873\n",
            "    texture (standard error):             0.36   4.885\n",
            "    perimeter (standard error):           0.757  21.98\n",
            "    area (standard error):                6.802  542.2\n",
            "    smoothness (standard error):          0.002  0.031\n",
            "    compactness (standard error):         0.002  0.135\n",
            "    concavity (standard error):           0.0    0.396\n",
            "    concave points (standard error):      0.0    0.053\n",
            "    symmetry (standard error):            0.008  0.079\n",
            "    fractal dimension (standard error):   0.001  0.03\n",
            "    radius (worst):                       7.93   36.04\n",
            "    texture (worst):                      12.02  49.54\n",
            "    perimeter (worst):                    50.41  251.2\n",
            "    area (worst):                         185.2  4254.0\n",
            "    smoothness (worst):                   0.071  0.223\n",
            "    compactness (worst):                  0.027  1.058\n",
            "    concavity (worst):                    0.0    1.252\n",
            "    concave points (worst):               0.0    0.291\n",
            "    symmetry (worst):                     0.156  0.664\n",
            "    fractal dimension (worst):            0.055  0.208\n",
            "    ===================================== ====== ======\n",
            "\n",
            "    :Missing Attribute Values: None\n",
            "\n",
            "    :Class Distribution: 212 - Malignant, 357 - Benign\n",
            "\n",
            "    :Creator:  Dr. William H. Wolberg, W. Nick Street, Olvi L. Mangasarian\n",
            "\n",
            "    :Donor: Nick Street\n",
            "\n",
            "    :Date: November, 1995\n",
            "\n",
            "This is a copy of UCI ML Breast Cancer Wisconsin (Diagnostic) datasets.\n",
            "https://goo.gl/U2Uwz2\n",
            "\n",
            "Features are computed from a digitized image of a fine needle\n",
            "aspirate (FNA) of a breast mass.  They describe\n",
            "characteristics of the cell nuclei present in the image.\n",
            "\n",
            "Separating plane described above was obtained using\n",
            "Multisurface Method-Tree (MSM-T) [K. P. Bennett, \"Decision Tree\n",
            "Construction Via Linear Programming.\" Proceedings of the 4th\n",
            "Midwest Artificial Intelligence and Cognitive Science Society,\n",
            "pp. 97-101, 1992], a classification method which uses linear\n",
            "programming to construct a decision tree.  Relevant features\n",
            "were selected using an exhaustive search in the space of 1-4\n",
            "features and 1-3 separating planes.\n",
            "\n",
            "The actual linear program used to obtain the separating plane\n",
            "in the 3-dimensional space is that described in:\n",
            "[K. P. Bennett and O. L. Mangasarian: \"Robust Linear\n",
            "Programming Discrimination of Two Linearly Inseparable Sets\",\n",
            "Optimization Methods and Software 1, 1992, 23-34].\n",
            "\n",
            "This database is also available through the UW CS ftp server:\n",
            "\n",
            "ftp ftp.cs.wisc.edu\n",
            "cd math-prog/cpo-dataset/machine-learn/WDBC/\n",
            "\n",
            ".. topic:: References\n",
            "\n",
            "   - W.N. Street, W.H. Wolberg and O.L. Mangasarian. Nuclear feature extraction \n",
            "     for breast tumor diagnosis. IS&T/SPIE 1993 International Symposium on \n",
            "     Electronic Imaging: Science and Technology, volume 1905, pages 861-870,\n",
            "     San Jose, CA, 1993.\n",
            "   - O.L. Mangasarian, W.N. Street and W.H. Wolberg. Breast cancer diagnosis and \n",
            "     prognosis via linear programming. Operations Research, 43(4), pages 570-577, \n",
            "     July-August 1995.\n",
            "   - W.H. Wolberg, W.N. Street, and O.L. Mangasarian. Machine learning techniques\n",
            "     to diagnose breast cancer from fine-needle aspirates. Cancer Letters 77 (1994) \n",
            "     163-171.\n"
          ]
        }
      ]
    },
    {
      "cell_type": "code",
      "metadata": {
        "colab": {
          "base_uri": "https://localhost:8080/"
        },
        "id": "aRaGIQHW0YBX",
        "outputId": "b8b81690-f5a3-4168-e025-5b953709f9bc"
      },
      "source": [
        "data['data'].shape"
      ],
      "execution_count": 6,
      "outputs": [
        {
          "output_type": "execute_result",
          "data": {
            "text/plain": [
              "(569, 30)"
            ]
          },
          "metadata": {},
          "execution_count": 6
        }
      ]
    },
    {
      "cell_type": "code",
      "metadata": {
        "colab": {
          "base_uri": "https://localhost:8080/"
        },
        "id": "jRHbEsHs0cF_",
        "outputId": "f23f2533-d78c-4619-d74d-1d3564006c6f"
      },
      "source": [
        "data['feature_names']"
      ],
      "execution_count": 7,
      "outputs": [
        {
          "output_type": "execute_result",
          "data": {
            "text/plain": [
              "array(['mean radius', 'mean texture', 'mean perimeter', 'mean area',\n",
              "       'mean smoothness', 'mean compactness', 'mean concavity',\n",
              "       'mean concave points', 'mean symmetry', 'mean fractal dimension',\n",
              "       'radius error', 'texture error', 'perimeter error', 'area error',\n",
              "       'smoothness error', 'compactness error', 'concavity error',\n",
              "       'concave points error', 'symmetry error',\n",
              "       'fractal dimension error', 'worst radius', 'worst texture',\n",
              "       'worst perimeter', 'worst area', 'worst smoothness',\n",
              "       'worst compactness', 'worst concavity', 'worst concave points',\n",
              "       'worst symmetry', 'worst fractal dimension'], dtype='<U23')"
            ]
          },
          "metadata": {},
          "execution_count": 7
        }
      ]
    },
    {
      "cell_type": "markdown",
      "metadata": {
        "id": "VdyTpsh90hpY"
      },
      "source": [
        "## ATTRIBUTES OF FIRST TUMOR"
      ]
    },
    {
      "cell_type": "code",
      "metadata": {
        "colab": {
          "base_uri": "https://localhost:8080/"
        },
        "id": "F9SmHm8N0ePn",
        "outputId": "66073385-1c80-4501-9b1c-cc668146f0cf"
      },
      "source": [
        "j = 0\n",
        "for i in data['feature_names']:\n",
        "    print(i,\":\",data['data'][0][j])\n",
        "    j+=1"
      ],
      "execution_count": 8,
      "outputs": [
        {
          "output_type": "stream",
          "name": "stdout",
          "text": [
            "mean radius : 17.99\n",
            "mean texture : 10.38\n",
            "mean perimeter : 122.8\n",
            "mean area : 1001.0\n",
            "mean smoothness : 0.1184\n",
            "mean compactness : 0.2776\n",
            "mean concavity : 0.3001\n",
            "mean concave points : 0.1471\n",
            "mean symmetry : 0.2419\n",
            "mean fractal dimension : 0.07871\n",
            "radius error : 1.095\n",
            "texture error : 0.9053\n",
            "perimeter error : 8.589\n",
            "area error : 153.4\n",
            "smoothness error : 0.006399\n",
            "compactness error : 0.04904\n",
            "concavity error : 0.05373\n",
            "concave points error : 0.01587\n",
            "symmetry error : 0.03003\n",
            "fractal dimension error : 0.006193\n",
            "worst radius : 25.38\n",
            "worst texture : 17.33\n",
            "worst perimeter : 184.6\n",
            "worst area : 2019.0\n",
            "worst smoothness : 0.1622\n",
            "worst compactness : 0.6656\n",
            "worst concavity : 0.7119\n",
            "worst concave points : 0.2654\n",
            "worst symmetry : 0.4601\n",
            "worst fractal dimension : 0.1189\n"
          ]
        }
      ]
    },
    {
      "cell_type": "code",
      "metadata": {
        "colab": {
          "base_uri": "https://localhost:8080/"
        },
        "id": "j17a1WjL0loM",
        "outputId": "fe8298ba-8a72-426a-feea-5a9d0e207bf5"
      },
      "source": [
        "data['target'].shape"
      ],
      "execution_count": 9,
      "outputs": [
        {
          "output_type": "execute_result",
          "data": {
            "text/plain": [
              "(569,)"
            ]
          },
          "metadata": {},
          "execution_count": 9
        }
      ]
    },
    {
      "cell_type": "code",
      "metadata": {
        "colab": {
          "base_uri": "https://localhost:8080/"
        },
        "id": "ncRYxCNO0q7Y",
        "outputId": "46ff3880-8baa-4555-ac53-882a06e08ec9"
      },
      "source": [
        "data['target_names']"
      ],
      "execution_count": 10,
      "outputs": [
        {
          "output_type": "execute_result",
          "data": {
            "text/plain": [
              "array(['malignant', 'benign'], dtype='<U9')"
            ]
          },
          "metadata": {},
          "execution_count": 10
        }
      ]
    },
    {
      "cell_type": "code",
      "metadata": {
        "id": "Z0drING60r8p"
      },
      "source": [
        "feature = data['data'] "
      ],
      "execution_count": 11,
      "outputs": []
    },
    {
      "cell_type": "code",
      "metadata": {
        "id": "xM8h7L580veZ"
      },
      "source": [
        "label = data[\"target\"]"
      ],
      "execution_count": 12,
      "outputs": []
    },
    {
      "cell_type": "markdown",
      "metadata": {
        "id": "oLoibWq000zV"
      },
      "source": [
        "## convert the feature values nearest to 1"
      ]
    },
    {
      "cell_type": "code",
      "metadata": {
        "id": "tU06_nP-0w6T"
      },
      "source": [
        "scale = StandardScaler()\n",
        "feature = scale.fit_transform(feature)"
      ],
      "execution_count": 13,
      "outputs": []
    },
    {
      "cell_type": "code",
      "metadata": {
        "colab": {
          "base_uri": "https://localhost:8080/"
        },
        "id": "YGopqVks07tq",
        "outputId": "a56925c6-a91f-4301-d85f-fbdc8bd74e62"
      },
      "source": [
        "j = 0\n",
        "for i in data['feature_names']:\n",
        "    print(i,\":\",feature[0][j])\n",
        "    j+=1"
      ],
      "execution_count": 14,
      "outputs": [
        {
          "output_type": "stream",
          "name": "stdout",
          "text": [
            "mean radius : 1.0970639814699807\n",
            "mean texture : -2.0733350146975935\n",
            "mean perimeter : 1.2699336881399383\n",
            "mean area : 0.9843749048031144\n",
            "mean smoothness : 1.568466329243428\n",
            "mean compactness : 3.2835146709868264\n",
            "mean concavity : 2.652873983743168\n",
            "mean concave points : 2.532475216403245\n",
            "mean symmetry : 2.2175150059646405\n",
            "mean fractal dimension : 2.255746885296269\n",
            "radius error : 2.4897339267376193\n",
            "texture error : -0.5652650590684639\n",
            "perimeter error : 2.833030865855184\n",
            "area error : 2.4875775569611043\n",
            "smoothness error : -0.21400164666895383\n",
            "compactness error : 1.3168615683959484\n",
            "concavity error : 0.72402615808036\n",
            "concave points error : 0.6608199414286064\n",
            "symmetry error : 1.1487566671861758\n",
            "fractal dimension error : 0.9070830809973359\n",
            "worst radius : 1.8866896251792757\n",
            "worst texture : -1.3592934737640827\n",
            "worst perimeter : 2.3036006236225606\n",
            "worst area : 2.0012374893299207\n",
            "worst smoothness : 1.3076862710715387\n",
            "worst compactness : 2.616665023512603\n",
            "worst concavity : 2.1095263465722556\n",
            "worst concave points : 2.296076127561788\n",
            "worst symmetry : 2.750622244124955\n",
            "worst fractal dimension : 1.9370146123781782\n"
          ]
        }
      ]
    },
    {
      "cell_type": "markdown",
      "metadata": {
        "id": "_tfXZ81_1CyP"
      },
      "source": [
        "## to see the tumor is begin or malignant"
      ]
    },
    {
      "cell_type": "code",
      "metadata": {
        "colab": {
          "base_uri": "https://localhost:8080/"
        },
        "id": "IUUqrLxG08-I",
        "outputId": "3a7be29a-34d8-4de9-ecbe-0988a3fefbfc"
      },
      "source": [
        "print(feature[2])\n",
        "print(data['target_names'][label[2]])"
      ],
      "execution_count": 15,
      "outputs": [
        {
          "output_type": "stream",
          "name": "stdout",
          "text": [
            "[ 1.57988811  0.45618695  1.56650313  1.55888363  0.94221044  1.05292554\n",
            "  1.36347845  2.03723076  0.93968482 -0.39800791  1.22867595 -0.78008338\n",
            "  0.8509283   1.18133606 -0.29700501  0.8149735   0.21307643  1.42482747\n",
            "  0.23703554  0.2935594   1.51187025 -0.02397438  1.34747521  1.45628455\n",
            "  0.52740741  1.08293217  0.85497394  1.95500035  1.152255    0.20139121]\n",
            "malignant\n"
          ]
        }
      ]
    },
    {
      "cell_type": "code",
      "metadata": {
        "id": "K4sCFg9Z1Gbi"
      },
      "source": [
        "df_frt = pd.DataFrame(feature , columns = data['feature_names'])\n",
        "df_lbl = pd.DataFrame(label , columns = ['label'])\n",
        "df = pd.concat([df_frt, df_lbl], axis=1)\n",
        "df = df.sample(frac = 1)"
      ],
      "execution_count": 20,
      "outputs": []
    },
    {
      "cell_type": "code",
      "metadata": {
        "id": "aQXYWlWi7twm"
      },
      "source": [
        ""
      ],
      "execution_count": 23,
      "outputs": []
    },
    {
      "cell_type": "markdown",
      "metadata": {
        "id": "D8jaWKY01RjO"
      },
      "source": [
        "# Traning the model on 500 samples"
      ]
    },
    {
      "cell_type": "code",
      "metadata": {
        "id": "haoTMIUN1NqI"
      },
      "source": [
        "x_train = feature[:500]\n",
        "y_train = label[:500]"
      ],
      "execution_count": 17,
      "outputs": []
    },
    {
      "cell_type": "markdown",
      "metadata": {
        "id": "pfBYYFXs1ZAn"
      },
      "source": [
        "# validate the model on 35 samples"
      ]
    },
    {
      "cell_type": "code",
      "metadata": {
        "id": "4smCYncM1Uzt"
      },
      "source": [
        "x_val = feature[500:535]\n",
        "y_val = label[500:535]"
      ],
      "execution_count": 18,
      "outputs": []
    },
    {
      "cell_type": "markdown",
      "metadata": {
        "id": "TVVe3QiB1fiN"
      },
      "source": [
        "# Testing the model on 34 samples"
      ]
    },
    {
      "cell_type": "code",
      "metadata": {
        "id": "Eqhrc5v61bVz"
      },
      "source": [
        "x_test = feature[535:]\n",
        "y_test = label[535:]"
      ],
      "execution_count": 19,
      "outputs": []
    },
    {
      "cell_type": "markdown",
      "metadata": {
        "id": "jNyvmU9m8kP0"
      },
      "source": [
        "# create a neural network"
      ]
    },
    {
      "cell_type": "code",
      "metadata": {
        "id": "1GPMykIq1iKQ"
      },
      "source": [
        "model = Sequential()\n",
        "model.add(Dense(15 , activation = 'relu', input_dim=30))\n",
        "model.add(Dense(8 , activation = 'relu'))\n",
        "model.add(Dense(1 , activation = 'sigmoid'))"
      ],
      "execution_count": 26,
      "outputs": []
    },
    {
      "cell_type": "markdown",
      "metadata": {
        "id": "wBfIW7V-9bdI"
      },
      "source": [
        "# compile the model"
      ]
    },
    {
      "cell_type": "code",
      "metadata": {
        "id": "0_I2T_dH9ItM"
      },
      "source": [
        "model.compile(loss = 'binary_crossentropy', optimizer='adam' ,metrics=['accuracy'])"
      ],
      "execution_count": 32,
      "outputs": []
    },
    {
      "cell_type": "markdown",
      "metadata": {
        "id": "pkDI1RzVAdmV"
      },
      "source": [
        "# Train and validate the model"
      ]
    },
    {
      "cell_type": "code",
      "metadata": {
        "colab": {
          "base_uri": "https://localhost:8080/"
        },
        "id": "wp2Uaf3QAdNS",
        "outputId": "28bdfbe3-0092-4d8b-9e21-5464e2aa9e5e"
      },
      "source": [
        "model.fit( x_train ,y_train, batch_size = 2 ,epochs = 10 ,validation_data = (x_val,y_val)) # by default it takes batch_size = 32"
      ],
      "execution_count": 63,
      "outputs": [
        {
          "output_type": "stream",
          "name": "stdout",
          "text": [
            "Epoch 1/10\n",
            "250/250 [==============================] - 1s 2ms/step - loss: 0.0106 - accuracy: 0.9980 - val_loss: 0.1607 - val_accuracy: 0.9714\n",
            "Epoch 2/10\n",
            "250/250 [==============================] - 1s 2ms/step - loss: 0.0089 - accuracy: 0.9980 - val_loss: 0.1693 - val_accuracy: 0.9714\n",
            "Epoch 3/10\n",
            "250/250 [==============================] - 1s 2ms/step - loss: 0.0080 - accuracy: 0.9980 - val_loss: 0.1601 - val_accuracy: 0.9714\n",
            "Epoch 4/10\n",
            "250/250 [==============================] - 1s 2ms/step - loss: 0.0078 - accuracy: 0.9980 - val_loss: 0.1669 - val_accuracy: 0.9714\n",
            "Epoch 5/10\n",
            "250/250 [==============================] - 0s 2ms/step - loss: 0.0062 - accuracy: 0.9980 - val_loss: 0.1697 - val_accuracy: 0.9714\n",
            "Epoch 6/10\n",
            "250/250 [==============================] - 1s 2ms/step - loss: 0.0060 - accuracy: 0.9980 - val_loss: 0.1825 - val_accuracy: 0.9714\n",
            "Epoch 7/10\n",
            "250/250 [==============================] - 1s 2ms/step - loss: 0.0062 - accuracy: 0.9980 - val_loss: 0.1970 - val_accuracy: 0.9714\n",
            "Epoch 8/10\n",
            "250/250 [==============================] - 1s 2ms/step - loss: 0.0055 - accuracy: 0.9980 - val_loss: 0.1986 - val_accuracy: 0.9714\n",
            "Epoch 9/10\n",
            "250/250 [==============================] - 1s 2ms/step - loss: 0.0048 - accuracy: 0.9980 - val_loss: 0.1945 - val_accuracy: 0.9714\n",
            "Epoch 10/10\n",
            "250/250 [==============================] - 1s 2ms/step - loss: 0.0038 - accuracy: 0.9980 - val_loss: 0.1852 - val_accuracy: 0.9714\n"
          ]
        },
        {
          "output_type": "execute_result",
          "data": {
            "text/plain": [
              "<keras.callbacks.History at 0x7f2f6bfeb850>"
            ]
          },
          "metadata": {},
          "execution_count": 63
        }
      ]
    },
    {
      "cell_type": "markdown",
      "metadata": {
        "id": "7v5Lbv8OBOmW"
      },
      "source": [
        "# Test the model"
      ]
    },
    {
      "cell_type": "code",
      "metadata": {
        "colab": {
          "base_uri": "https://localhost:8080/"
        },
        "id": "k2SjrBgNA3z5",
        "outputId": "16260a4b-02cb-4fa9-fc39-f3c69792cac5"
      },
      "source": [
        "model.evaluate(x_test,y_test)"
      ],
      "execution_count": 64,
      "outputs": [
        {
          "output_type": "stream",
          "name": "stdout",
          "text": [
            "2/2 [==============================] - 0s 5ms/step - loss: 0.0182 - accuracy: 1.0000\n"
          ]
        },
        {
          "output_type": "execute_result",
          "data": {
            "text/plain": [
              "[0.01823747530579567, 1.0]"
            ]
          },
          "metadata": {},
          "execution_count": 64
        }
      ]
    },
    {
      "cell_type": "markdown",
      "metadata": {
        "id": "JO1vbpxLKG5o"
      },
      "source": [
        "# for one sample whether it is bengin or **malignant**"
      ]
    },
    {
      "cell_type": "code",
      "metadata": {
        "colab": {
          "base_uri": "https://localhost:8080/"
        },
        "id": "jjn451WkBVAr",
        "outputId": "4f667e40-b190-47f6-c3a4-a31f5e8c2314"
      },
      "source": [
        "x_test[0]\n",
        "sample = x_test[0]\n",
        "sample = np.reshape(sample,(1,30))\n",
        "if(model.predict(sample)[0][0] > 0.5):\n",
        "  print(\"benign\") \n",
        "else:\n",
        "  print(\"malignant\")"
      ],
      "execution_count": 65,
      "outputs": [
        {
          "output_type": "stream",
          "name": "stdout",
          "text": [
            "malignant\n"
          ]
        }
      ]
    },
    {
      "cell_type": "markdown",
      "metadata": {
        "id": "uJtvod_zLAMU"
      },
      "source": [
        "# TO PREDICT WETHER IT IS malignant OR benign upto 10 samples"
      ]
    },
    {
      "cell_type": "code",
      "metadata": {
        "colab": {
          "base_uri": "https://localhost:8080/"
        },
        "id": "6nf20QFkF4gW",
        "outputId": "5abe4aa4-209d-4e0a-8aa3-76f05d2d80d8"
      },
      "source": [
        "for i in range(10):\n",
        "  sample = x_test[i]\n",
        "  sample = np.reshape(sample,(1,30))\n",
        "  if(model.predict(sample)[0][0] > 0.5):\n",
        "    print(\"-benign\") \n",
        "  else:\n",
        "    print(\"-malignant\")\n",
        "\n",
        "  if(y_test[i] == 1):\n",
        "    print(\"*benign\") \n",
        "  else:\n",
        "    print(\"*malignant\")\n",
        "  print(\"-------\")\n"
      ],
      "execution_count": 66,
      "outputs": [
        {
          "output_type": "stream",
          "name": "stdout",
          "text": [
            "-malignant\n",
            "*malignant\n",
            "-------\n",
            "-malignant\n",
            "*malignant\n",
            "-------\n",
            "-benign\n",
            "*benign\n",
            "-------\n",
            "-benign\n",
            "*benign\n",
            "-------\n",
            "-benign\n",
            "*benign\n",
            "-------\n",
            "-benign\n",
            "*benign\n",
            "-------\n",
            "-benign\n",
            "*benign\n",
            "-------\n",
            "-benign\n",
            "*benign\n",
            "-------\n",
            "-benign\n",
            "*benign\n",
            "-------\n",
            "-benign\n",
            "*benign\n",
            "-------\n"
          ]
        }
      ]
    },
    {
      "cell_type": "code",
      "metadata": {
        "id": "BEH-d2hHGJwz"
      },
      "source": [
        ""
      ],
      "execution_count": 57,
      "outputs": []
    },
    {
      "cell_type": "code",
      "metadata": {
        "id": "K6Dj4ezjFfZK"
      },
      "source": [
        ""
      ],
      "execution_count": 57,
      "outputs": []
    },
    {
      "cell_type": "code",
      "metadata": {
        "id": "FjM69hmLFvKq"
      },
      "source": [
        ""
      ],
      "execution_count": 57,
      "outputs": []
    },
    {
      "cell_type": "code",
      "metadata": {
        "id": "2k7PaV55GY0R"
      },
      "source": [
        ""
      ],
      "execution_count": 57,
      "outputs": []
    }
  ]
}